{
 "cells": [
  {
   "cell_type": "code",
   "execution_count": 2,
   "metadata": {
    "collapsed": true
   },
   "outputs": [],
   "source": [
    "import requests\n",
    "import json\n",
    "\n",
    "elasticSearchUrl = \"http://localhost:9200\""
   ]
  },
  {
   "cell_type": "code",
   "execution_count": 19,
   "metadata": {},
   "outputs": [
    {
     "name": "stdout",
     "output_type": "stream",
     "text": [
      "0 \t 7.539825 \t Grown Ups\n",
      "1 \t 7.039643 \t Aliens\n",
      "2 \t 6.1616535 \t District 9\n",
      "3 \t 5.9619174 \t Cowboys & Aliens\n",
      "4 \t 4.939788 \t Pitch Black\n",
      "5 \t 4.6933355 \t Men in Black 3\n",
      "6 \t 3.8147893 \t Die Hard: With a Vengeance\n",
      "7 \t 3.452578 \t The Girl with the Dragon Tattoo\n",
      "8 \t 3.452578 \t Cloudy with a Chance of Meatballs\n",
      "9 \t 1.516017 \t Silver Linings Playbook\n"
     ]
    }
   ],
   "source": [
    "# multi_match - запрос по нескольким полям\n",
    "# query - текст запроса\n",
    "# fields - поля для поиска\n",
    "\n",
    "usersSearch = 'basketball with cartoon aliens'\n",
    "\n",
    "search = json.dumps(\n",
    "    {\n",
    "    \"query\": {\n",
    "        \"multi_match\" : {\n",
    "              \"query\": usersSearch, \n",
    "              \"fields\": [\"title\", \"overview\"] \n",
    "            }\n",
    "          },\n",
    "        'size': '10',\n",
    "        'explain': True\n",
    "        }\n",
    ")\n",
    "\n",
    "resp = requests.get(\"http://localhost:9200/tmdb/_doc/_search?pretty\", \n",
    "                   data=search,\n",
    "                   headers={\"Content-Type\": \"application/json\"}).json()\n",
    "\n",
    "for idx, hit in enumerate(resp['hits']['hits']):\n",
    "    print(idx, '\\t', hit['_score'], '\\t', hit['_source']['title'])"
   ]
  },
  {
   "cell_type": "code",
   "execution_count": 20,
   "metadata": {},
   "outputs": [
    {
     "name": "stdout",
     "output_type": "stream",
     "text": [
      "0 \t 70.39642 \t Aliens\n",
      "1 \t 59.619175 \t Cowboys & Aliens\n",
      "2 \t 38.14789 \t Die Hard: With a Vengeance\n",
      "3 \t 34.52578 \t The Girl with the Dragon Tattoo\n",
      "4 \t 34.52578 \t Cloudy with a Chance of Meatballs\n",
      "5 \t 7.539825 \t Grown Ups\n",
      "6 \t 6.1616535 \t District 9\n",
      "7 \t 4.939788 \t Pitch Black\n",
      "8 \t 4.6933355 \t Men in Black 3\n",
      "9 \t 1.516017 \t Silver Linings Playbook\n"
     ]
    }
   ],
   "source": [
    "# Увеличим вес поля title в 10 раз\n",
    "\n",
    "usersSearch = 'basketball with cartoon aliens'\n",
    "\n",
    "search = json.dumps(\n",
    "    {\n",
    "    \"query\": {\n",
    "        \"multi_match\" : {\n",
    "              \"query\": usersSearch, \n",
    "              \"fields\": [\"title^10\", \"overview\"] \n",
    "            }\n",
    "          },\n",
    "        'size': '10',\n",
    "        'explain': True\n",
    "        }\n",
    ")\n",
    "\n",
    "resp = requests.get(\"http://localhost:9200/tmdb/_doc/_search?pretty\", \n",
    "                   data=search,\n",
    "                   headers={\"Content-Type\": \"application/json\"}).json()\n",
    "\n",
    "for idx, hit in enumerate(resp['hits']['hits']):\n",
    "    print(idx, '\\t', hit['_score'], '\\t', hit['_source']['title'])"
   ]
  },
  {
   "cell_type": "code",
   "execution_count": 21,
   "metadata": {},
   "outputs": [
    {
     "name": "stdout",
     "output_type": "stream",
     "text": [
      "0 \t 75.39824 \t Grown Ups\n",
      "1 \t 61.61653 \t District 9\n",
      "2 \t 49.397877 \t Pitch Black\n",
      "3 \t 46.93335 \t Men in Black 3\n",
      "4 \t 15.16017 \t Silver Linings Playbook\n",
      "5 \t 13.982159 \t Saving Private Ryan\n",
      "6 \t 13.698313 \t Toy Story 3\n",
      "7 \t 13.698313 \t Parker\n",
      "8 \t 13.697424 \t White House Down\n",
      "9 \t 13.296026 \t The Curious Case of Benjamin Button\n"
     ]
    }
   ],
   "source": [
    "# Увеличим вес поля overview в 10 раз\n",
    "\n",
    "usersSearch = 'basketball with cartoon aliens'\n",
    "\n",
    "search = json.dumps(\n",
    "    {\n",
    "    \"query\": {\n",
    "        \"multi_match\" : {\n",
    "              \"query\": usersSearch, \n",
    "              \"fields\": [\"title\", \"overview^10\"] \n",
    "            }\n",
    "          },\n",
    "        'size': '10',\n",
    "        'explain': True\n",
    "        }\n",
    ")\n",
    "\n",
    "resp = requests.get(\"http://localhost:9200/tmdb/_doc/_search?pretty\", \n",
    "                   data=search,\n",
    "                   headers={\"Content-Type\": \"application/json\"}).json()\n",
    "\n",
    "for idx, hit in enumerate(resp['hits']['hits']):\n",
    "    print(idx, '\\t', hit['_score'], '\\t', hit['_source']['title'])"
   ]
  },
  {
   "cell_type": "markdown",
   "metadata": {},
   "source": [
    "Удалим индекс и создадим его заново используя анализатор английского языка"
   ]
  },
  {
   "cell_type": "code",
   "execution_count": 163,
   "metadata": {},
   "outputs": [
    {
     "data": {
      "text/plain": [
       "'{\"acknowledged\":true}'"
      ]
     },
     "execution_count": 163,
     "metadata": {},
     "output_type": "execute_result"
    }
   ],
   "source": [
    "r = requests.delete(elasticSearchUrl + '/tmdb')\n",
    "r.text"
   ]
  },
  {
   "cell_type": "code",
   "execution_count": 164,
   "metadata": {},
   "outputs": [
    {
     "name": "stdout",
     "output_type": "stream",
     "text": [
      "---\n",
      "error:\n",
      "  root_cause:\n",
      "  - type: \"index_not_found_exception\"\n",
      "    reason: \"no such index [tmdb]\"\n",
      "    resource.type: \"index_or_alias\"\n",
      "    resource.id: \"tmdb\"\n",
      "    index_uuid: \"_na_\"\n",
      "    index: \"tmdb\"\n",
      "  type: \"index_not_found_exception\"\n",
      "  reason: \"no such index [tmdb]\"\n",
      "  resource.type: \"index_or_alias\"\n",
      "  resource.id: \"tmdb\"\n",
      "  index_uuid: \"_na_\"\n",
      "  index: \"tmdb\"\n",
      "status: 404\n",
      "\n"
     ]
    }
   ],
   "source": [
    "resp = requests.get(elasticSearchUrl+'/tmdb/_mappings?format=yaml')\n",
    "print(resp.text)"
   ]
  },
  {
   "cell_type": "code",
   "execution_count": 165,
   "metadata": {
    "collapsed": true
   },
   "outputs": [],
   "source": [
    "# Применим к полям title и overview анализатор английского языка\n",
    "\n",
    "settings = {\n",
    "    'settings': {\n",
    "        \"number_of_shards\": 1,\n",
    "    },\n",
    "    'mappings': {\n",
    "        'properties': {\n",
    "        'budget': {'type': 'long'},\n",
    "        'genres': {'fields': {'keyword': {'ignore_above': 256, 'type': 'keyword'}},\n",
    "         'type': 'text'},\n",
    "        'id': {'type': 'long'},\n",
    "        'overview': {'type': 'text', 'analyzer': 'english'},\n",
    "        'production_companies': {'fields': {'keyword': {'ignore_above': 256,\n",
    "           'type': 'keyword'}},\n",
    "         'type': 'text'},\n",
    "        'release_date': {'type': 'date'},\n",
    "        'revenue': {'type': 'long'},\n",
    "        'runtime': {'type': 'long'},\n",
    "        'tagline': {'fields': {'keyword': {'ignore_above': 256,\n",
    "           'type': 'keyword'}},\n",
    "         'type': 'text'},\n",
    "        'title': {'type': 'text', 'analyzer': 'english'},\n",
    "        'vote_average': {'type': 'float'},\n",
    "        'vote_count': {'type': 'long'}}\n",
    "        }\n",
    "}\n",
    "    \n"
   ]
  },
  {
   "cell_type": "code",
   "execution_count": 166,
   "metadata": {},
   "outputs": [
    {
     "name": "stdout",
     "output_type": "stream",
     "text": [
      "{\"acknowledged\":true,\"shards_acknowledged\":true,\"index\":\"tmdb\"}\n"
     ]
    }
   ],
   "source": [
    "from time import sleep\n",
    "\n",
    "resp = requests.put(elasticSearchUrl+'/tmdb/', \n",
    "                    data=json.dumps(settings),\n",
    "                   headers={\"Content-Type\": \"application/json\"})\n",
    "print(resp.text)"
   ]
  },
  {
   "cell_type": "code",
   "execution_count": 167,
   "metadata": {},
   "outputs": [
    {
     "data": {
      "text/plain": [
       "'{\"_shards\":{\"total\":2,\"successful\":1,\"failed\":0}}'"
      ]
     },
     "execution_count": 167,
     "metadata": {},
     "output_type": "execute_result"
    }
   ],
   "source": [
    "# Обновим индекс после изменения настроек\n",
    "resp = requests.get(elasticSearchUrl+'/tmdb/_refresh')\n",
    "resp.text"
   ]
  },
  {
   "cell_type": "code",
   "execution_count": 168,
   "metadata": {},
   "outputs": [
    {
     "name": "stdout",
     "output_type": "stream",
     "text": [
      "0 \t 7.367055 \t Grown Ups\n",
      "1 \t 6.2199554 \t Alien\n",
      "2 \t 6.2199554 \t Aliens\n",
      "3 \t 5.078388 \t Cowboys & Aliens\n",
      "4 \t 4.54947 \t District 9\n",
      "5 \t 4.3978195 \t Edge of Tomorrow\n",
      "6 \t 4.3978195 \t Independence Day\n",
      "7 \t 4.288439 \t Avatar\n",
      "8 \t 3.70602 \t Battleship\n",
      "9 \t 3.6683912 \t The Host\n"
     ]
    }
   ],
   "source": [
    "# Новый поиск с использованием анализатора\n",
    "\n",
    "usersSearch = 'basketball with cartoon aliens'\n",
    "\n",
    "search = json.dumps(\n",
    "    {\n",
    "    \"query\": {\n",
    "        \"multi_match\" : {\n",
    "              \"query\": usersSearch, \n",
    "              \"fields\": [\"title\", \"overview\"] \n",
    "            }\n",
    "          },\n",
    "        'size': '10',\n",
    "        'explain': True\n",
    "        }\n",
    ")\n",
    "\n",
    "resp = requests.get(\"http://localhost:9200/tmdb/_doc/_search?pretty\", \n",
    "                   data=search,\n",
    "                   headers={\"Content-Type\": \"application/json\"}).json()\n",
    "\n",
    "for idx, hit in enumerate(resp['hits']['hits']):\n",
    "    print(idx, '\\t', hit['_score'], '\\t', hit['_source']['title'])"
   ]
  },
  {
   "cell_type": "code",
   "execution_count": 169,
   "metadata": {},
   "outputs": [
    {
     "name": "stdout",
     "output_type": "stream",
     "text": [
      "0 \t 62.19955 \t Alien\n",
      "1 \t 62.19955 \t Aliens\n",
      "2 \t 50.78388 \t Cowboys & Aliens\n",
      "3 \t 7.367055 \t Grown Ups\n",
      "4 \t 4.54947 \t District 9\n",
      "5 \t 4.3978195 \t Edge of Tomorrow\n",
      "6 \t 4.3978195 \t Independence Day\n",
      "7 \t 4.288439 \t Avatar\n",
      "8 \t 3.70602 \t Battleship\n",
      "9 \t 3.6683912 \t The Host\n"
     ]
    }
   ],
   "source": [
    "usersSearch = 'basketball with cartoon aliens'\n",
    "\n",
    "search = json.dumps(\n",
    "    {\n",
    "    \"query\": {\n",
    "        \"multi_match\" : {\n",
    "              \"query\": usersSearch, \n",
    "              \"fields\": [\"title^10\", \"overview\"] \n",
    "            }\n",
    "          },\n",
    "        'size': '10',\n",
    "        'explain': True\n",
    "        }\n",
    ")\n",
    "\n",
    "resp = requests.get(\"http://localhost:9200/tmdb/_doc/_search?pretty\", \n",
    "                   data=search,\n",
    "                   headers={\"Content-Type\": \"application/json\"}).json()\n",
    "\n",
    "for idx, hit in enumerate(resp['hits']['hits']):\n",
    "    print(idx, '\\t', hit['_score'], '\\t', hit['_source']['title'])"
   ]
  },
  {
   "cell_type": "code",
   "execution_count": 170,
   "metadata": {},
   "outputs": [
    {
     "name": "stdout",
     "output_type": "stream",
     "text": [
      "0 \t 73.67055 \t Grown Ups\n",
      "1 \t 45.4947 \t District 9\n",
      "2 \t 43.978195 \t Edge of Tomorrow\n",
      "3 \t 43.978195 \t Independence Day\n",
      "4 \t 42.884388 \t Avatar\n",
      "5 \t 37.0602 \t Battleship\n",
      "6 \t 36.683914 \t The Host\n",
      "7 \t 33.012287 \t Aliens\n",
      "8 \t 33.012287 \t Pitch Black\n",
      "9 \t 32.36443 \t Spider-Man 3\n"
     ]
    }
   ],
   "source": [
    "usersSearch = 'basketball with cartoon aliens'\n",
    "\n",
    "search = json.dumps(\n",
    "    {\n",
    "    \"query\": {\n",
    "        \"multi_match\" : {\n",
    "              \"query\": usersSearch, \n",
    "              \"fields\": [\"title\", \"overview^10\"] \n",
    "            }\n",
    "          },\n",
    "        'size': '10',\n",
    "        'explain': True\n",
    "        }\n",
    ")\n",
    "\n",
    "resp = requests.get(\"http://localhost:9200/tmdb/_doc/_search?pretty\", \n",
    "                   data=search,\n",
    "                   headers={\"Content-Type\": \"application/json\"}).json()\n",
    "\n",
    "for idx, hit in enumerate(resp['hits']['hits']):\n",
    "    print(idx, '\\t', hit['_score'], '\\t', hit['_source']['title'])"
   ]
  },
  {
   "cell_type": "code",
   "execution_count": 172,
   "metadata": {},
   "outputs": [
    {
     "name": "stdout",
     "output_type": "stream",
     "text": [
      "0 \t 7.367055 \t Grown Ups\n",
      "1 \t 4.54947 \t District 9\n",
      "2 \t 4.3978195 \t Edge of Tomorrow\n",
      "3 \t 4.3978195 \t Independence Day\n",
      "4 \t 4.288439 \t Avatar\n",
      "5 \t 3.70602 \t Battleship\n",
      "6 \t 3.6683912 \t The Host\n",
      "7 \t 3.3012288 \t Aliens\n",
      "8 \t 3.3012288 \t Pitch Black\n",
      "9 \t 3.2364428 \t Spider-Man 3\n",
      "10 \t 3.0564933 \t Alien\n",
      "11 \t 2.8455405 \t Men in Black\n",
      "12 \t 2.8455405 \t Riddick\n",
      "13 \t 2.5785875 \t Men in Black 3\n",
      "14 \t 2.5003967 \t Men in Black II\n",
      "15 \t 2.2299223 \t Wreck-It Ralph\n",
      "16 \t 0.50783885 \t Cowboys & Aliens\n"
     ]
    }
   ],
   "source": [
    "# Уменьшим значение заголовка\n",
    "\n",
    "usersSearch = 'basketball with cartoon aliens'\n",
    "\n",
    "search = json.dumps(\n",
    "    {\n",
    "    \"query\": {\n",
    "        \"multi_match\" : {\n",
    "              \"query\": usersSearch, \n",
    "              \"fields\": [\"title^0.1\", \"overview\"] \n",
    "            }\n",
    "          },\n",
    "        'size': '100',\n",
    "        'explain': True\n",
    "        }\n",
    ")\n",
    "\n",
    "resp = requests.get(\"http://localhost:9200/tmdb/_doc/_search?pretty\", \n",
    "                   data=search,\n",
    "                   headers={\"Content-Type\": \"application/json\"}).json()\n",
    "\n",
    "for idx, hit in enumerate(resp['hits']['hits']):\n",
    "    print(idx, '\\t', hit['_score'], '\\t', hit['_source']['title'])"
   ]
  },
  {
   "cell_type": "code",
   "execution_count": 174,
   "metadata": {},
   "outputs": [
    {
     "data": {
      "text/plain": [
       "{'_shards': {'failed': 0, 'skipped': 0, 'successful': 1, 'total': 1},\n",
       " 'hits': {'hits': [{'_id': '13475',\n",
       "    '_index': 'tmdb',\n",
       "    '_score': 9.447634,\n",
       "    '_source': {'budget': 150000000,\n",
       "     'genres': ['Action', 'Adventure', 'Science Fiction'],\n",
       "     'id': 13475,\n",
       "     'overview': 'The fate of the galaxy rests in the hands of bitter rivals. One, James Kirk, is a delinquent, thrill-seeking Iowa farm boy. The other, Spock, a Vulcan, was raised in a logic-based society that rejects all emotion. As fiery instinct clashes with calm reason, their unlikely but powerful partnership is the only thing capable of leading their crew through unimaginable danger, boldly going where no one has gone before. The human adventure has begun again.',\n",
       "     'production_companies': ['Paramount Pictures',\n",
       "      'Bad Robot',\n",
       "      'Spyglass Entertainment',\n",
       "      'MavroCine Pictures GmbH & Co. KG'],\n",
       "     'release_date': '2009-05-07',\n",
       "     'revenue': 385680446,\n",
       "     'runtime': 127,\n",
       "     'tagline': 'The future begins',\n",
       "     'title': 'Star Trek',\n",
       "     'vote_average': 7.3,\n",
       "     'vote_count': 2333},\n",
       "    '_type': '_doc'},\n",
       "   {'_id': '54138',\n",
       "    '_index': 'tmdb',\n",
       "    '_score': 7.982569,\n",
       "    '_source': {'budget': 185000000,\n",
       "     'genres': ['Action', 'Adventure', 'Science Fiction'],\n",
       "     'id': 54138,\n",
       "     'overview': 'When the crew of the Enterprise is called back home, they find an unstoppable force of terror from within their own organization has detonated the fleet and everything it stands for, leaving our world in a state of crisis.  With a personal score to settle, Captain Kirk leads a manhunt to a war-zone world to capture a one man weapon of mass destruction. As our heroes are propelled into an epic chess game of life and death, love will be challenged, friendships will be torn apart, and sacrifices must be made for the only family Kirk has left: his crew.',\n",
       "     'production_companies': ['Bad Robot',\n",
       "      'Paramount Pictures',\n",
       "      'Kurtzman/Orci',\n",
       "      'Skydance Productions'],\n",
       "     'release_date': '2013-05-16',\n",
       "     'revenue': 467365246,\n",
       "     'runtime': 132,\n",
       "     'tagline': 'Earth Will Fall',\n",
       "     'title': 'Star Trek Into Darkness',\n",
       "     'vote_average': 7.5,\n",
       "     'vote_count': 2242},\n",
       "    '_type': '_doc'},\n",
       "   {'_id': '222935',\n",
       "    '_index': 'tmdb',\n",
       "    '_score': 3.3871846,\n",
       "    '_source': {'budget': 12000000,\n",
       "     'genres': ['Drama', 'Romance'],\n",
       "     'id': 222935,\n",
       "     'overview': \"Despite the tumor-shrinking medical miracle that has bought her a few years, Hazel has never been anything but terminal, her final chapter inscribed upon diagnosis. But when a patient named Augustus Waters suddenly appears at Cancer Kid Support Group, Hazel's story is about to be completely rewritten.\",\n",
       "     'production_companies': ['Temple Hill Productions',\n",
       "      '20th Century Fox Film Corporation'],\n",
       "     'release_date': '2014-05-16',\n",
       "     'revenue': 0,\n",
       "     'runtime': 125,\n",
       "     'tagline': 'One Sick Love Story',\n",
       "     'title': 'The Fault in Our Stars',\n",
       "     'vote_average': 8.2,\n",
       "     'vote_count': 784},\n",
       "    '_type': '_doc'},\n",
       "   {'_id': '11',\n",
       "    '_index': 'tmdb',\n",
       "    '_score': 2.31173,\n",
       "    '_source': {'budget': 11000000,\n",
       "     'genres': ['Action', 'Adventure', 'Science Fiction'],\n",
       "     'id': 11,\n",
       "     'overview': 'Princess Leia is captured and held hostage by the evil Imperial forces in their effort to take over the galactic Empire. Venturesome Luke Skywalker and dashing captain Han Solo team together with the loveable robot duo R2-D2 and C-3PO to rescue the beautiful princess and restore peace and justice in the Empire.',\n",
       "     'production_companies': ['Lucasfilm',\n",
       "      'Twentieth Century Fox Film Corporation'],\n",
       "     'release_date': '1977-05-25',\n",
       "     'revenue': 775398007,\n",
       "     'runtime': 121,\n",
       "     'tagline': 'A long time ago in a galaxy far, far away...',\n",
       "     'title': 'Star Wars: Episode IV - A New Hope',\n",
       "     'vote_average': 7.7,\n",
       "     'vote_count': 2362},\n",
       "    '_type': '_doc'},\n",
       "   {'_id': '1892',\n",
       "    '_index': 'tmdb',\n",
       "    '_score': 2.31173,\n",
       "    '_source': {'budget': 32350000,\n",
       "     'genres': ['Action', 'Adventure', 'Science Fiction'],\n",
       "     'id': 1892,\n",
       "     'overview': \"As Rebel leaders map their strategy for an all-out attack on the Emperor's newer, bigger Death Star. Han Solo remains frozen in the cavernous desert fortress of Jabba the Hutt, the most loathsome outlaw in the universe, who is also keeping Princess Leia as a slave girl. Now a master of the Force, Luke Skywalker rescues his friends, but he cannot become a true Jedi Knight until he wages his own crucial battle against Darth Vader, who has sworn to win Luke over to the dark side of the Force.\",\n",
       "     'production_companies': ['Lucasfilm'],\n",
       "     'release_date': '1983-05-25',\n",
       "     'revenue': 572700000,\n",
       "     'runtime': 135,\n",
       "     'tagline': 'The Empire Falls...',\n",
       "     'title': 'Star Wars: Episode VI - Return of the Jedi',\n",
       "     'vote_average': 7.6,\n",
       "     'vote_count': 1740},\n",
       "    '_type': '_doc'},\n",
       "   {'_id': '1893',\n",
       "    '_index': 'tmdb',\n",
       "    '_score': 2.31173,\n",
       "    '_source': {'budget': 115000000,\n",
       "     'genres': ['Action', 'Adventure', 'Science Fiction'],\n",
       "     'id': 1893,\n",
       "     'overview': '(32 Years Before Episode IV) Stranded on the desert planet Tatooine after rescuing young Queen Amidala from the impending invasion of Naboo, Jedi apprentice Obi-Wan Kenobi and his Jedi Master discover nine-year-old Anakin Skywalker, a young slave unusually strong in the Force.',\n",
       "     'production_companies': ['Lucasfilm'],\n",
       "     'release_date': '1999-05-19',\n",
       "     'revenue': 924317558,\n",
       "     'runtime': 136,\n",
       "     'tagline': 'Every generation has a legend. Every journey has a first step. Every saga has a beginning.',\n",
       "     'title': 'Star Wars: Episode I - The Phantom Menace',\n",
       "     'vote_average': 6.2,\n",
       "     'vote_count': 1489},\n",
       "    '_type': '_doc'},\n",
       "   {'_id': '1895',\n",
       "    '_index': 'tmdb',\n",
       "    '_score': 2.31173,\n",
       "    '_source': {'budget': 113000000,\n",
       "     'genres': ['Action', 'Adventure', 'Science Fiction'],\n",
       "     'id': 1895,\n",
       "     'overview': '(19 Years before Episode IV) Three years after the onset of the Clone Wars, the Jedi Knights have been leading the clone army into a galaxy-wide war against the Separatists. Only by embracing the Dark Side can Anakin Skywalker end the war and -- He believes -- Save the woman he loves.',\n",
       "     'production_companies': ['Lucasfilm'],\n",
       "     'release_date': '2005-05-19',\n",
       "     'revenue': 850000000,\n",
       "     'runtime': 140,\n",
       "     'tagline': 'The saga is complete.',\n",
       "     'title': 'Star Wars: Episode III - Revenge of the Sith',\n",
       "     'vote_average': 6.8,\n",
       "     'vote_count': 1319},\n",
       "    '_type': '_doc'},\n",
       "   {'_id': '1894',\n",
       "    '_index': 'tmdb',\n",
       "    '_score': 2.31173,\n",
       "    '_source': {'budget': 120000000,\n",
       "     'genres': ['Action', 'Adventure', 'Science Fiction'],\n",
       "     'id': 1894,\n",
       "     'overview': '(22 Years Before Episode IV) Ten years after the events of the Battle of Naboo, the galaxy has undergone significant changes. Anakin Skywalker and Obi-Wan Kenobi are assigned to protect Padmé from political separatists. As relationships form and powerful forces collide, these heroes face choices that will impact the destiny of the Republic.',\n",
       "     'production_companies': ['Lucasfilm'],\n",
       "     'release_date': '2002-05-16',\n",
       "     'revenue': 649398328,\n",
       "     'runtime': 142,\n",
       "     'tagline': 'A Jedi Shall Not Know Anger. Nor Hatred. Nor Love.',\n",
       "     'title': 'Star Wars: Episode II - Attack of the Clones',\n",
       "     'vote_average': 6.3,\n",
       "     'vote_count': 1309},\n",
       "    '_type': '_doc'},\n",
       "   {'_id': '1891',\n",
       "    '_index': 'tmdb',\n",
       "    '_score': 2.0904822,\n",
       "    '_source': {'budget': 18000000,\n",
       "     'genres': ['Action', 'Adventure', 'Science Fiction'],\n",
       "     'id': 1891,\n",
       "     'overview': 'The epic saga continues as Luke Skywalker, in hopes of defeating the evil Galactic Empire, learns the ways of the Jedi from aging master Yoda. But Darth Vader is more determined than ever to capture Luke. Meanwhile, rebel leader Princess Leia, cocky Han Solo, Chewbacca, and droids C-3PO and R2-D2 are thrown into various stages of capture, betrayal and despair.',\n",
       "     'production_companies': ['Twentieth Century Fox Film Corporation',\n",
       "      'Lucasfilm'],\n",
       "     'release_date': '1980-05-17',\n",
       "     'revenue': 538400000,\n",
       "     'runtime': 124,\n",
       "     'tagline': 'The Adventure Continues...',\n",
       "     'title': 'Star Wars: Episode V - The Empire Strikes Back',\n",
       "     'vote_average': 7.8,\n",
       "     'vote_count': 2136},\n",
       "    '_type': '_doc'}],\n",
       "  'max_score': 9.447634,\n",
       "  'total': {'relation': 'eq', 'value': 9}},\n",
       " 'timed_out': False,\n",
       " 'took': 2}"
      ]
     },
     "execution_count": 174,
     "metadata": {},
     "output_type": "execute_result"
    }
   ],
   "source": [
    "search = json.dumps(\n",
    "    {\n",
    "    \"query\": {\n",
    "        \"match\" : {\n",
    "            \"title\" : {\n",
    "                \"query\" : \"Star Trek\"\n",
    "            }\n",
    "        }\n",
    "    }\n",
    "}\n",
    ")\n",
    "\n",
    "requests.get(\"http://localhost:9200/tmdb/_doc/_search?pretty\", \n",
    "                   data=search,\n",
    "                   headers={\"Content-Type\": \"application/json\"}).json()"
   ]
  },
  {
   "cell_type": "code",
   "execution_count": 153,
   "metadata": {},
   "outputs": [
    {
     "data": {
      "text/plain": [
       "{'_id': '22794',\n",
       " '_index': 'tmdb',\n",
       " '_primary_term': 1,\n",
       " '_seq_no': 396,\n",
       " '_source': {'budget': 100000000,\n",
       "  'genres': ['Animation', 'Comedy', 'Family'],\n",
       "  'id': 22794,\n",
       "  'overview': 'Inventor Flint Lockwood creates a machine that makes clouds rain food, enabling the down-and-out citizens of Chewandswallow to feed themselves. But when the falling food reaches gargantuan proportions, Flint must scramble to avert disaster. Can he regain control of the machine and put an end to the wild weather before the town is destroyed?',\n",
       "  'production_companies': ['Sony Pictures Animation', 'Columbia Pictures'],\n",
       "  'release_date': '2009-09-16',\n",
       "  'revenue': 242988466,\n",
       "  'runtime': 90,\n",
       "  'tagline': 'Prepare to get served.',\n",
       "  'title': 'Cloudy with a Chance of Meatballs',\n",
       "  'vote_average': 6.3,\n",
       "  'vote_count': 601},\n",
       " '_type': '_doc',\n",
       " '_version': 1,\n",
       " 'found': True}"
      ]
     },
     "execution_count": 153,
     "metadata": {},
     "output_type": "execute_result"
    }
   ],
   "source": [
    "requests.get(\"http://localhost:9200/tmdb/_doc/22794?pretty\").json()"
   ]
  },
  {
   "cell_type": "code",
   "execution_count": 114,
   "metadata": {},
   "outputs": [
    {
     "data": {
      "text/plain": [
       "{'_shards': {'failed': 0, 'skipped': 0, 'successful': 1, 'total': 1},\n",
       " 'count': 0}"
      ]
     },
     "execution_count": 114,
     "metadata": {},
     "output_type": "execute_result"
    }
   ],
   "source": [
    "requests.get(\"http://localhost:9200/tmdb/_count?pretty\").json()"
   ]
  }
 ],
 "metadata": {
  "kernelspec": {
   "display_name": "Python 3",
   "language": "python",
   "name": "python3"
  },
  "language_info": {
   "codemirror_mode": {
    "name": "ipython",
    "version": 3
   },
   "file_extension": ".py",
   "mimetype": "text/x-python",
   "name": "python",
   "nbconvert_exporter": "python",
   "pygments_lexer": "ipython3",
   "version": "3.6.1"
  }
 },
 "nbformat": 4,
 "nbformat_minor": 2
}
