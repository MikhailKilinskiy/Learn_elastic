{
 "cells": [
  {
   "cell_type": "code",
   "execution_count": 1,
   "metadata": {
    "collapsed": true
   },
   "outputs": [],
   "source": [
    "import requests\n",
    "import json\n",
    "\n",
    "elasticSearchUrl = \"http://localhost:9200\""
   ]
  },
  {
   "cell_type": "code",
   "execution_count": 18,
   "metadata": {},
   "outputs": [
    {
     "name": "stdout",
     "output_type": "stream",
     "text": [
      "0 \t 4.5374618 \t Cars 2\n",
      "1 \t 4.411681 \t Star Wars: Episode VI - Return of the Jedi\n",
      "2 \t 4.078724 \t Kick-Ass 2\n",
      "3 \t 4.008845 \t Star Trek\n",
      "4 \t 3.9586582 \t Amélie\n",
      "5 \t 3.8091507 \t The Truman Show\n",
      "6 \t 3.670525 \t Ted\n",
      "7 \t 3.541635 \t The Bourne Legacy\n",
      "8 \t 3.3871846 \t Star Trek Into Darkness\n",
      "9 \t 3.3871846 \t The Fault in Our Stars\n",
      "10 \t 2.31173 \t Star Wars: Episode IV - A New Hope\n",
      "11 \t 2.31173 \t Star Wars: Episode I - The Phantom Menace\n",
      "12 \t 2.31173 \t Star Wars: Episode III - Revenge of the Sith\n",
      "13 \t 2.31173 \t Star Wars: Episode II - Attack of the Clones\n",
      "14 \t 2.0904822 \t Star Wars: Episode V - The Empire Strikes Back\n"
     ]
    }
   ],
   "source": [
    "\"\"\"\n",
    "tie_breaker - от 0 до 1 - увеличивает релевантность ответа \n",
    "если текст запроса содержиться сразу в нескольких полях.\n",
    "По умолчанию = 0\n",
    "\n",
    "best_fields - для определения релевантности используется оценка лучше всего совпадающего поля\n",
    "\"\"\"\n",
    "\n",
    "\n",
    "usersSearch = 'star'\n",
    "\n",
    "search = json.dumps(\n",
    "    {\n",
    "    \"query\": {\n",
    "        \"multi_match\" : {\n",
    "              \"query\": usersSearch, \n",
    "              \"fields\": [\"title\", \"overview\"],\n",
    "            'type': 'best_fields',\n",
    "            'tie_breaker': 0.5\n",
    "            }\n",
    "          },\n",
    "        'size': '100',\n",
    "        'explain': True\n",
    "        }\n",
    ")\n",
    "\n",
    "resp = requests.get(\"http://localhost:9200/tmdb/_doc/_search?pretty\", \n",
    "                   data=search,\n",
    "                   headers={\"Content-Type\": \"application/json\"}).json()\n",
    "\n",
    "for idx, hit in enumerate(resp['hits']['hits']):\n",
    "    print(idx, '\\t', hit['_score'], '\\t', hit['_source']['title'])"
   ]
  },
  {
   "cell_type": "code",
   "execution_count": 19,
   "metadata": {},
   "outputs": [
    {
     "name": "stdout",
     "output_type": "stream",
     "text": [
      "0 \t 4.5374618 \t Cars 2\n",
      "1 \t 4.411681 \t Star Wars: Episode VI - Return of the Jedi\n",
      "2 \t 4.078724 \t Kick-Ass 2\n",
      "3 \t 4.008845 \t Star Trek\n",
      "4 \t 3.9586582 \t Amélie\n",
      "5 \t 3.8091507 \t The Truman Show\n",
      "6 \t 3.670525 \t Ted\n",
      "7 \t 3.541635 \t The Bourne Legacy\n",
      "8 \t 3.3871846 \t Star Trek Into Darkness\n",
      "9 \t 3.3871846 \t The Fault in Our Stars\n",
      "10 \t 2.31173 \t Star Wars: Episode IV - A New Hope\n",
      "11 \t 2.31173 \t Star Wars: Episode I - The Phantom Menace\n",
      "12 \t 2.31173 \t Star Wars: Episode III - Revenge of the Sith\n",
      "13 \t 2.31173 \t Star Wars: Episode II - Attack of the Clones\n",
      "14 \t 2.0904822 \t Star Wars: Episode V - The Empire Strikes Back\n"
     ]
    }
   ],
   "source": [
    "\"\"\"\n",
    "\n",
    "tie_breaker - от 0 до 1 - увеличивает релевантность ответа \n",
    "если текст запроса содержиться сразу в нескольких полях.\n",
    "По умолчанию = 0\n",
    "\n",
    "most_fields - для определения релевантности используется суммарная оценка релевантности по всем поля\n",
    "\"\"\"\n",
    "\n",
    "\n",
    "usersSearch = 'star'\n",
    "\n",
    "search = json.dumps(\n",
    "    {\n",
    "    \"query\": {\n",
    "        \"multi_match\" : {\n",
    "              \"query\": usersSearch, \n",
    "              \"fields\": [\"title\", \"overview\"],\n",
    "            'type': 'most_fields',\n",
    "            'tie_breaker': 0.5\n",
    "            }\n",
    "          },\n",
    "        'size': '100',\n",
    "        'explain': True\n",
    "        }\n",
    ")\n",
    "\n",
    "resp = requests.get(\"http://localhost:9200/tmdb/_doc/_search?pretty\", \n",
    "                   data=search,\n",
    "                   headers={\"Content-Type\": \"application/json\"}).json()\n",
    "\n",
    "for idx, hit in enumerate(resp['hits']['hits']):\n",
    "    print(idx, '\\t', hit['_score'], '\\t', hit['_source']['title'])"
   ]
  },
  {
   "cell_type": "code",
   "execution_count": 23,
   "metadata": {},
   "outputs": [
    {
     "name": "stdout",
     "output_type": "stream",
     "text": [
      "0 \t 4.1537704 \t Cars 2\n",
      "1 \t 4.136367 \t Star Wars: Episode VI - Return of the Jedi\n",
      "2 \t 4.008845 \t Star Trek\n",
      "3 \t 3.7338238 \t Kick-Ass 2\n",
      "4 \t 3.623911 \t Amélie\n",
      "5 \t 3.4870458 \t The Truman Show\n",
      "6 \t 3.3871846 \t Star Trek Into Darkness\n",
      "7 \t 3.3871846 \t The Fault in Our Stars\n",
      "8 \t 3.3601427 \t Ted\n",
      "9 \t 3.2421517 \t The Bourne Legacy\n",
      "10 \t 2.31173 \t Star Wars: Episode IV - A New Hope\n",
      "11 \t 2.31173 \t Star Wars: Episode I - The Phantom Menace\n",
      "12 \t 2.31173 \t Star Wars: Episode III - Revenge of the Sith\n",
      "13 \t 2.31173 \t Star Wars: Episode II - Attack of the Clones\n",
      "14 \t 2.0904822 \t Star Wars: Episode V - The Empire Strikes Back\n"
     ]
    }
   ],
   "source": [
    "\"\"\"\n",
    "\n",
    "tie_breaker - от 0 до 1 - увеличивает релевантность ответа \n",
    "если текст запроса содержиться сразу в нескольких полях.\n",
    "По умолчанию = 0\n",
    "\n",
    "cross_fields - для определения релевантности объединяем поля в которых изщем и высчитываем общую релевантность\n",
    "\"\"\"\n",
    "\n",
    "\n",
    "usersSearch = 'star'\n",
    "\n",
    "search = json.dumps(\n",
    "    {\n",
    "    \"query\": {\n",
    "        \"multi_match\" : {\n",
    "              \"query\": usersSearch, \n",
    "              \"fields\": [\"title\", \"overview\"],\n",
    "            'type': 'cross_fields',\n",
    "            'tie_breaker': 0.5\n",
    "            }\n",
    "          },\n",
    "        'size': '100',\n",
    "        'explain': True\n",
    "        }\n",
    ")\n",
    "\n",
    "resp = requests.get(\"http://localhost:9200/tmdb/_doc/_search?pretty\", \n",
    "                   data=search,\n",
    "                   headers={\"Content-Type\": \"application/json\"}).json()\n",
    "\n",
    "for idx, hit in enumerate(resp['hits']['hits']):\n",
    "    print(idx, '\\t', hit['_score'], '\\t', hit['_source']['title'])"
   ]
  },
  {
   "cell_type": "code",
   "execution_count": 26,
   "metadata": {},
   "outputs": [
    {
     "name": "stdout",
     "output_type": "stream",
     "text": [
      "0 \t 13.456478 \t Star Trek\n",
      "1 \t 11.369753 \t Star Trek Into Darkness\n",
      "2 \t 4.1537704 \t Cars 2\n",
      "3 \t 3.7338238 \t Kick-Ass 2\n",
      "4 \t 3.623911 \t Amélie\n",
      "5 \t 3.4870458 \t The Truman Show\n",
      "6 \t 3.3871846 \t The Fault in Our Stars\n",
      "7 \t 3.3601427 \t Ted\n",
      "8 \t 3.2421517 \t The Bourne Legacy\n",
      "9 \t 2.9805017 \t Star Wars: Episode VI - Return of the Jedi\n"
     ]
    }
   ],
   "source": [
    "\"\"\"\n",
    "\n",
    "bool - запрос аналогичный AND - выполняет сразу нгесколько условий\n",
    "\n",
    "{\n",
    "   \"query\": {\n",
    "     \"bool\": {\n",
    "       \"must\": [],\n",
    "       \"must_not\": [],\n",
    "       \"should\": [],\n",
    "       \"filter\": []\n",
    "     }\n",
    "   }\n",
    " }\n",
    " \n",
    " must часть запроса содержит все запросы and. \n",
    " must_not раздел содержит все not запросы. \n",
    " should раздел содержит or запросы.\n",
    " filter содержит запросы на соответствие, но без учета ранжирования\n",
    " \n",
    " https://codedzen.ru/elasticsearch-urok-6-3-poisk/\n",
    "\"\"\"\n",
    "\n",
    "# WHERE CONCAT(overview, title) like '%star%' OR title like '%star trek%'\n",
    "\n",
    "usersSearch = 'star'\n",
    "\n",
    "search = json.dumps(\n",
    "    {\n",
    "    'query': {\n",
    "        'bool': {\n",
    "            'should': [\n",
    "            {'multi_match': { \n",
    "               'query': usersSearch, \n",
    "                'fields': ['overview', 'title'],\n",
    "                'type': 'cross_fields'                                \n",
    "             }},\n",
    "            { \n",
    "               'match_phrase': {\n",
    "                    'title': {\n",
    "                        'query': 'star trek',\n",
    "                    }\n",
    "                }\n",
    "            }\n",
    "            ]\n",
    "        }\n",
    "    },\n",
    "    'size': 10,\n",
    "    'explain': True\n",
    "}\n",
    ")\n",
    "\n",
    "resp = requests.get(\"http://localhost:9200/tmdb/_doc/_search?pretty\", \n",
    "                   data=search,\n",
    "                   headers={\"Content-Type\": \"application/json\"}).json()\n",
    "\n",
    "for idx, hit in enumerate(resp['hits']['hits']):\n",
    "    print(idx, '\\t', hit['_score'], '\\t', hit['_source']['title'])"
   ]
  },
  {
   "cell_type": "code",
   "execution_count": 48,
   "metadata": {},
   "outputs": [
    {
     "name": "stdout",
     "output_type": "stream",
     "text": [
      "0 \t 14.902508 \t Star Wars: Episode VI - Return of the Jedi\n",
      "1 \t 11.558649 \t Star Wars: Episode IV - A New Hope\n",
      "2 \t 11.558649 \t Star Wars: Episode I - The Phantom Menace\n",
      "3 \t 11.558649 \t Star Wars: Episode III - Revenge of the Sith\n",
      "4 \t 11.558649 \t Star Wars: Episode II - Attack of the Clones\n",
      "5 \t 10.452412 \t Star Wars: Episode V - The Empire Strikes Back\n"
     ]
    }
   ],
   "source": [
    "# filter - принудительно оставляет в выыоде только определенные поля игнорируя их релевантность\n",
    "\n",
    "usersSearch = 'star'\n",
    "\n",
    "search = json.dumps(\n",
    "    {\n",
    "    'query': {\n",
    "        'bool': {\n",
    "            'should': [\n",
    "            {'multi_match': { \n",
    "               'query': usersSearch, \n",
    "                'fields': ['overview', 'title'],\n",
    "                'type': 'cross_fields',\n",
    "                'boost': 5 # Усилили условие в 5 раз\n",
    "             }},\n",
    "            { \n",
    "               'match_phrase': {\n",
    "                    'title': {\n",
    "                        'query': 'star trek',\n",
    "                        'boost': 0.1 # Ослабили условие в 10 раз\n",
    "                    }\n",
    "                }\n",
    "            }\n",
    "            ],\n",
    "            'filter': {\n",
    "                'match_phrase': {\n",
    "                        'title': 'star wars'\n",
    "                    }\n",
    "                \n",
    "              }\n",
    "        }\n",
    "    },\n",
    "    'size': 10,\n",
    "    'explain': True\n",
    "}\n",
    ")\n",
    "\n",
    "resp = requests.get(\"http://localhost:9200/tmdb/_doc/_search?pretty\", \n",
    "                   data=search,\n",
    "                   headers={\"Content-Type\": \"application/json\"}).json()\n",
    "\n",
    "for idx, hit in enumerate(resp['hits']['hits']):\n",
    "    print(idx, '\\t', hit['_score'], '\\t', hit['_source']['title'])"
   ]
  },
  {
   "cell_type": "code",
   "execution_count": 45,
   "metadata": {},
   "outputs": [
    {
     "data": {
      "text/plain": [
       "{'error': {'col': 226,\n",
       "  'line': 1,\n",
       "  'reason': 'no [query] registered for [query]',\n",
       "  'root_cause': [{'col': 226,\n",
       "    'line': 1,\n",
       "    'reason': 'no [query] registered for [query]',\n",
       "    'type': 'parsing_exception'}],\n",
       "  'type': 'parsing_exception'},\n",
       " 'status': 400}"
      ]
     },
     "execution_count": 45,
     "metadata": {},
     "output_type": "execute_result"
    }
   ],
   "source": [
    "resp"
   ]
  },
  {
   "cell_type": "code",
   "execution_count": null,
   "metadata": {
    "collapsed": true
   },
   "outputs": [],
   "source": []
  },
  {
   "cell_type": "code",
   "execution_count": null,
   "metadata": {
    "collapsed": true
   },
   "outputs": [],
   "source": []
  },
  {
   "cell_type": "code",
   "execution_count": null,
   "metadata": {
    "collapsed": true
   },
   "outputs": [],
   "source": []
  },
  {
   "cell_type": "code",
   "execution_count": null,
   "metadata": {
    "collapsed": true
   },
   "outputs": [],
   "source": []
  },
  {
   "cell_type": "code",
   "execution_count": null,
   "metadata": {
    "collapsed": true
   },
   "outputs": [],
   "source": []
  },
  {
   "cell_type": "code",
   "execution_count": null,
   "metadata": {
    "collapsed": true
   },
   "outputs": [],
   "source": []
  }
 ],
 "metadata": {
  "kernelspec": {
   "display_name": "Python 3",
   "language": "python",
   "name": "python3"
  },
  "language_info": {
   "codemirror_mode": {
    "name": "ipython",
    "version": 3
   },
   "file_extension": ".py",
   "mimetype": "text/x-python",
   "name": "python",
   "nbconvert_exporter": "python",
   "pygments_lexer": "ipython3",
   "version": "3.6.1"
  }
 },
 "nbformat": 4,
 "nbformat_minor": 2
}
